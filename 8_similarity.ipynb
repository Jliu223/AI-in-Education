{
  "nbformat": 4,
  "nbformat_minor": 0,
  "metadata": {
    "colab": {
      "provenance": []
    },
    "kernelspec": {
      "name": "python3",
      "display_name": "Python 3"
    },
    "language_info": {
      "name": "python"
    }
  },
  "cells": [
    {
      "cell_type": "markdown",
      "source": [
        "# String similarity on lecture data"
      ],
      "metadata": {
        "id": "Y5fkMlYC-l4H"
      }
    },
    {
      "cell_type": "code",
      "source": [
        "from google.colab import drive\n",
        "drive.mount('/content/drive')"
      ],
      "metadata": {
        "colab": {
          "base_uri": "https://localhost:8080/"
        },
        "id": "OJ1O0ZjtHNHZ",
        "outputId": "076e6d86-8a12-4aa3-d892-e7a6b8af9a3c"
      },
      "execution_count": null,
      "outputs": [
        {
          "output_type": "stream",
          "name": "stdout",
          "text": [
            "Mounted at /content/drive\n"
          ]
        }
      ]
    },
    {
      "cell_type": "code",
      "execution_count": null,
      "metadata": {
        "id": "-BBwFu46-hkr",
        "collapsed": true
      },
      "outputs": [],
      "source": [
        "# path to the csv file\n",
        "csvpath = \"/content/drive/MyDrive/Co_op_JohnLiu/data/mitlecture4.csv\""
      ]
    },
    {
      "cell_type": "markdown",
      "source": [
        "## Import libraries"
      ],
      "metadata": {
        "id": "u31L2AAV6XWs"
      }
    },
    {
      "cell_type": "code",
      "source": [
        "from difflib import SequenceMatcher\n",
        "from collections import Counter\n",
        "import string\n",
        "import re\n",
        "from typing import List, Dict, Set\n",
        "\n",
        "import pandas as pd"
      ],
      "metadata": {
        "id": "b_vCPaux_hXe"
      },
      "execution_count": null,
      "outputs": []
    },
    {
      "cell_type": "markdown",
      "source": [
        "## Text Processing and Matching"
      ],
      "metadata": {
        "id": "uRQXlXiM6bTo"
      }
    },
    {
      "cell_type": "code",
      "source": [
        "class BasicTextSimilarityAnalyzer:\n",
        "    def __init__(self):\n",
        "        \"\"\"Initialize the analyzer with basic stop words\"\"\"\n",
        "        # Common English stop words\n",
        "        self.stop_words = {\n",
        "            'i', 'me', 'my', 'myself', 'we', 'our', 'ours', 'ourselves', 'you',\n",
        "            \"you're\", \"you've\", \"you'll\", \"you'd\", 'your', 'yours', 'yourself',\n",
        "            'yourselves', 'he', 'him', 'his', 'himself', 'she', \"she's\", 'her',\n",
        "            'hers', 'herself', 'it', \"it's\", 'its', 'itself', 'they', 'them',\n",
        "            'their', 'theirs', 'themselves', 'what', 'which', 'who', 'whom',\n",
        "            'this', 'that', \"that'll\", 'these', 'those', 'am', 'is', 'are',\n",
        "            'was', 'were', 'be', 'been', 'being', 'have', 'has', 'had', 'having',\n",
        "            'do', 'does', 'did', 'doing', 'a', 'an', 'the', 'and', 'but', 'if',\n",
        "            'or', 'because', 'as', 'until', 'while', 'of', 'at', 'by', 'for',\n",
        "            'with', 'about', 'against', 'between', 'into', 'through', 'during',\n",
        "            'before', 'after', 'above', 'below', 'to', 'from', 'up', 'down',\n",
        "            'in', 'out', 'on', 'off', 'over', 'under', 'again', 'further',\n",
        "            'then', 'once'\n",
        "        }\n",
        "\n",
        "    def preprocess_text(self, text: str) -> List[str]:\n",
        "        \"\"\"\n",
        "        Preprocess text by:\n",
        "        1. Converting to lowercase\n",
        "        2. Removing punctuation\n",
        "        3. Removing stop words\n",
        "        4. Splitting into words\n",
        "        \"\"\"\n",
        "        # Convert to lowercase\n",
        "        text = text.lower()\n",
        "\n",
        "        # Remove punctuation\n",
        "        text = text.translate(str.maketrans('', '', string.punctuation))\n",
        "\n",
        "        # Split into words and remove stop words\n",
        "        words = [\n",
        "            word for word in text.split()\n",
        "            if word not in self.stop_words and len(word) > 1\n",
        "        ]\n",
        "\n",
        "        return words\n",
        "\n",
        "    def sequence_similarity(self, text1: str, text2: str) -> float:\n",
        "        \"\"\"Calculate similarity using SequenceMatcher\"\"\"\n",
        "        return SequenceMatcher(None, text1, text2).ratio()\n",
        "\n",
        "    def word_overlap_similarity(self, text1: str, text2: str) -> float:\n",
        "        \"\"\"Calculate word overlap similarity\"\"\"\n",
        "        words1 = set(self.preprocess_text(text1))\n",
        "        words2 = set(self.preprocess_text(text2))\n",
        "\n",
        "        intersection = len(words1.intersection(words2))\n",
        "        union = len(words1.union(words2))\n",
        "\n",
        "        return intersection / union if union > 0 else 0\n",
        "\n",
        "    def frequency_similarity(self, text1: str, text2: str) -> float:\n",
        "        \"\"\"Calculate similarity based on word frequency patterns\"\"\"\n",
        "        words1 = self.preprocess_text(text1)\n",
        "        words2 = self.preprocess_text(text2)\n",
        "\n",
        "        # Create word frequency dictionaries\n",
        "        freq1 = Counter(words1)\n",
        "        freq2 = Counter(words2)\n",
        "\n",
        "        # Get all unique words\n",
        "        all_words = set(freq1.keys()).union(set(freq2.keys()))\n",
        "\n",
        "        # Calculate frequency similarity\n",
        "        similarity = 0\n",
        "        total = 0\n",
        "\n",
        "        for word in all_words:\n",
        "            f1 = freq1.get(word, 0)\n",
        "            f2 = freq2.get(word, 0)\n",
        "            # Add similarity contribution based on minimum frequency\n",
        "            similarity += min(f1, f2)\n",
        "            total += max(f1, f2)\n",
        "\n",
        "        return similarity / total if total > 0 else 0\n",
        "\n",
        "    def find_common_phrases(self, text1: str, text2: str, min_length: int = 3) -> List[str]:\n",
        "        \"\"\"Find common phrases between two texts\"\"\"\n",
        "        words1 = self.preprocess_text(text1)\n",
        "        words2 = self.preprocess_text(text2)\n",
        "\n",
        "        common_phrases = []\n",
        "\n",
        "        # Look for common sequences of words\n",
        "        for i in range(len(words1) - min_length + 1):\n",
        "            phrase = words1[i:i + min_length]\n",
        "            phrase_str = ' '.join(phrase)\n",
        "\n",
        "            # Check if this phrase appears in the second text\n",
        "            words2_str = ' '.join(words2)\n",
        "            if phrase_str in words2_str and phrase_str not in common_phrases:\n",
        "                common_phrases.append(phrase_str)\n",
        "\n",
        "        return common_phrases[:5]  # Return top 5 common phrases\n"
      ],
      "metadata": {
        "id": "fv7-aqag-uVJ"
      },
      "execution_count": null,
      "outputs": []
    },
    {
      "cell_type": "markdown",
      "source": [
        "## Compute Similarity"
      ],
      "metadata": {
        "id": "7CqoF1CQ6iYI"
      }
    },
    {
      "cell_type": "code",
      "source": [
        "lectures = pd.read_csv(csvpath)"
      ],
      "metadata": {
        "id": "qfou8bBX6me4"
      },
      "execution_count": null,
      "outputs": []
    },
    {
      "cell_type": "code",
      "source": [
        "lectures.head()"
      ],
      "metadata": {
        "colab": {
          "base_uri": "https://localhost:8080/",
          "height": 469
        },
        "id": "DS_EC1er6wPc",
        "outputId": "4ffac2dc-ba19-47ba-933f-fee3f4996f2f"
      },
      "execution_count": null,
      "outputs": [
        {
          "output_type": "execute_result",
          "data": {
            "text/plain": [
              "                                                 URL         Time  \\\n",
              "0  https://ocw.mit.edu/courses/6-0001-introductio...    0:00-3:00   \n",
              "1  https://ocw.mit.edu/courses/6-0001-introductio...    3:00-6:00   \n",
              "2  https://ocw.mit.edu/courses/6-0001-introductio...    6:00-9:00   \n",
              "3  https://ocw.mit.edu/courses/6-0001-introductio...   9:00-12:00   \n",
              "4  https://ocw.mit.edu/courses/6-0001-introductio...  12:00-15:00   \n",
              "\n",
              "                                     Transcript_Text  \\\n",
              "0  All right everyone let's get started. All righ...   \n",
              "1  So think about if you want to use a for loop i...   \n",
              "2  OK that's abstraction. The other half of that ...   \n",
              "3  OK so decomposition is creating structure in y...   \n",
              "4  The first is whoops-- the first is going to be...   \n",
              "\n",
              "                               Transcript_Key_Points  \\\n",
              "0  Recap of Previous Lecture:\\n    String Manipul...   \n",
              "1  Functions and Programming Style:\\n    Reuse an...   \n",
              "2  Concept Explanation:\\n    Breaking a large pro...   \n",
              "3  Decomposition and Abstraction:\\n    Decomposit...   \n",
              "4  Defining a Function:\\n    def Keyword:\\n    Us...   \n",
              "\n",
              "                                  Lecture_Notes_Text  \\\n",
              "0  HOW DO WE WRITE CODE?\\n    - so far…\\n    - co...   \n",
              "1  GOOD PROGRAMMING\\n    - more code not necessar...   \n",
              "2  EXAMPLE - PROJECTOR\\n    - a projector is a bl...   \n",
              "3  SUPRESS DETAILS with ABSTRACTION\\n    - in pro...   \n",
              "4  HOW TO WRITE and CALL/INVOKE A FUNCTION\\n    d...   \n",
              "\n",
              "                            Lecture_Notes_Key_Points  \\\n",
              "0  Current Coding Approach:\\n    Scope of Coverag...   \n",
              "1  Good Programming Practices:\\n    Code Quantity...   \n",
              "2  Abstraction Example - Projector:\\n    A projec...   \n",
              "3  Abstraction: Suppress Details:\\n    Projector ...   \n",
              "4  Function Definition (def):\\n    Keyword def:\\n...   \n",
              "\n",
              "                                            Coverage  \\\n",
              "0  Similarity Percentage: 85%\\nCovered Language M...   \n",
              "1  Breakdown:\\nKey Overlapping Points:\\nBoth emph...   \n",
              "2  Similarity Score: 85%\\nThe transcript and lect...   \n",
              "3  Similarity Score: 85-90%\\nThe transcript and l...   \n",
              "4  Similarity Score: 85%\\nJustification for the S...   \n",
              "\n",
              "                                      Missing_Points  \n",
              "0  High-Level Context:\\nThe transcript mentions a...  \n",
              "1  Projector Analogy: Demonstrates abstraction in...  \n",
              "2  Specificity in Examples:\\nThe transcript provi...  \n",
              "3  Transcript Details:\\nProvides a deeper explana...  \n",
              "4  Flexibility of the Body:\\nThe transcript expli...  "
            ],
            "text/html": [
              "\n",
              "  <div id=\"df-82978391-3b92-46ef-9403-fab231a6aeb5\" class=\"colab-df-container\">\n",
              "    <div>\n",
              "<style scoped>\n",
              "    .dataframe tbody tr th:only-of-type {\n",
              "        vertical-align: middle;\n",
              "    }\n",
              "\n",
              "    .dataframe tbody tr th {\n",
              "        vertical-align: top;\n",
              "    }\n",
              "\n",
              "    .dataframe thead th {\n",
              "        text-align: right;\n",
              "    }\n",
              "</style>\n",
              "<table border=\"1\" class=\"dataframe\">\n",
              "  <thead>\n",
              "    <tr style=\"text-align: right;\">\n",
              "      <th></th>\n",
              "      <th>URL</th>\n",
              "      <th>Time</th>\n",
              "      <th>Transcript_Text</th>\n",
              "      <th>Transcript_Key_Points</th>\n",
              "      <th>Lecture_Notes_Text</th>\n",
              "      <th>Lecture_Notes_Key_Points</th>\n",
              "      <th>Coverage</th>\n",
              "      <th>Missing_Points</th>\n",
              "    </tr>\n",
              "  </thead>\n",
              "  <tbody>\n",
              "    <tr>\n",
              "      <th>0</th>\n",
              "      <td>https://ocw.mit.edu/courses/6-0001-introductio...</td>\n",
              "      <td>0:00-3:00</td>\n",
              "      <td>All right everyone let's get started. All righ...</td>\n",
              "      <td>Recap of Previous Lecture:\\n    String Manipul...</td>\n",
              "      <td>HOW DO WE WRITE CODE?\\n    - so far…\\n    - co...</td>\n",
              "      <td>Current Coding Approach:\\n    Scope of Coverag...</td>\n",
              "      <td>Similarity Percentage: 85%\\nCovered Language M...</td>\n",
              "      <td>High-Level Context:\\nThe transcript mentions a...</td>\n",
              "    </tr>\n",
              "    <tr>\n",
              "      <th>1</th>\n",
              "      <td>https://ocw.mit.edu/courses/6-0001-introductio...</td>\n",
              "      <td>3:00-6:00</td>\n",
              "      <td>So think about if you want to use a for loop i...</td>\n",
              "      <td>Functions and Programming Style:\\n    Reuse an...</td>\n",
              "      <td>GOOD PROGRAMMING\\n    - more code not necessar...</td>\n",
              "      <td>Good Programming Practices:\\n    Code Quantity...</td>\n",
              "      <td>Breakdown:\\nKey Overlapping Points:\\nBoth emph...</td>\n",
              "      <td>Projector Analogy: Demonstrates abstraction in...</td>\n",
              "    </tr>\n",
              "    <tr>\n",
              "      <th>2</th>\n",
              "      <td>https://ocw.mit.edu/courses/6-0001-introductio...</td>\n",
              "      <td>6:00-9:00</td>\n",
              "      <td>OK that's abstraction. The other half of that ...</td>\n",
              "      <td>Concept Explanation:\\n    Breaking a large pro...</td>\n",
              "      <td>EXAMPLE - PROJECTOR\\n    - a projector is a bl...</td>\n",
              "      <td>Abstraction Example - Projector:\\n    A projec...</td>\n",
              "      <td>Similarity Score: 85%\\nThe transcript and lect...</td>\n",
              "      <td>Specificity in Examples:\\nThe transcript provi...</td>\n",
              "    </tr>\n",
              "    <tr>\n",
              "      <th>3</th>\n",
              "      <td>https://ocw.mit.edu/courses/6-0001-introductio...</td>\n",
              "      <td>9:00-12:00</td>\n",
              "      <td>OK so decomposition is creating structure in y...</td>\n",
              "      <td>Decomposition and Abstraction:\\n    Decomposit...</td>\n",
              "      <td>SUPRESS DETAILS with ABSTRACTION\\n    - in pro...</td>\n",
              "      <td>Abstraction: Suppress Details:\\n    Projector ...</td>\n",
              "      <td>Similarity Score: 85-90%\\nThe transcript and l...</td>\n",
              "      <td>Transcript Details:\\nProvides a deeper explana...</td>\n",
              "    </tr>\n",
              "    <tr>\n",
              "      <th>4</th>\n",
              "      <td>https://ocw.mit.edu/courses/6-0001-introductio...</td>\n",
              "      <td>12:00-15:00</td>\n",
              "      <td>The first is whoops-- the first is going to be...</td>\n",
              "      <td>Defining a Function:\\n    def Keyword:\\n    Us...</td>\n",
              "      <td>HOW TO WRITE and CALL/INVOKE A FUNCTION\\n    d...</td>\n",
              "      <td>Function Definition (def):\\n    Keyword def:\\n...</td>\n",
              "      <td>Similarity Score: 85%\\nJustification for the S...</td>\n",
              "      <td>Flexibility of the Body:\\nThe transcript expli...</td>\n",
              "    </tr>\n",
              "  </tbody>\n",
              "</table>\n",
              "</div>\n",
              "    <div class=\"colab-df-buttons\">\n",
              "\n",
              "  <div class=\"colab-df-container\">\n",
              "    <button class=\"colab-df-convert\" onclick=\"convertToInteractive('df-82978391-3b92-46ef-9403-fab231a6aeb5')\"\n",
              "            title=\"Convert this dataframe to an interactive table.\"\n",
              "            style=\"display:none;\">\n",
              "\n",
              "  <svg xmlns=\"http://www.w3.org/2000/svg\" height=\"24px\" viewBox=\"0 -960 960 960\">\n",
              "    <path d=\"M120-120v-720h720v720H120Zm60-500h600v-160H180v160Zm220 220h160v-160H400v160Zm0 220h160v-160H400v160ZM180-400h160v-160H180v160Zm440 0h160v-160H620v160ZM180-180h160v-160H180v160Zm440 0h160v-160H620v160Z\"/>\n",
              "  </svg>\n",
              "    </button>\n",
              "\n",
              "  <style>\n",
              "    .colab-df-container {\n",
              "      display:flex;\n",
              "      gap: 12px;\n",
              "    }\n",
              "\n",
              "    .colab-df-convert {\n",
              "      background-color: #E8F0FE;\n",
              "      border: none;\n",
              "      border-radius: 50%;\n",
              "      cursor: pointer;\n",
              "      display: none;\n",
              "      fill: #1967D2;\n",
              "      height: 32px;\n",
              "      padding: 0 0 0 0;\n",
              "      width: 32px;\n",
              "    }\n",
              "\n",
              "    .colab-df-convert:hover {\n",
              "      background-color: #E2EBFA;\n",
              "      box-shadow: 0px 1px 2px rgba(60, 64, 67, 0.3), 0px 1px 3px 1px rgba(60, 64, 67, 0.15);\n",
              "      fill: #174EA6;\n",
              "    }\n",
              "\n",
              "    .colab-df-buttons div {\n",
              "      margin-bottom: 4px;\n",
              "    }\n",
              "\n",
              "    [theme=dark] .colab-df-convert {\n",
              "      background-color: #3B4455;\n",
              "      fill: #D2E3FC;\n",
              "    }\n",
              "\n",
              "    [theme=dark] .colab-df-convert:hover {\n",
              "      background-color: #434B5C;\n",
              "      box-shadow: 0px 1px 3px 1px rgba(0, 0, 0, 0.15);\n",
              "      filter: drop-shadow(0px 1px 2px rgba(0, 0, 0, 0.3));\n",
              "      fill: #FFFFFF;\n",
              "    }\n",
              "  </style>\n",
              "\n",
              "    <script>\n",
              "      const buttonEl =\n",
              "        document.querySelector('#df-82978391-3b92-46ef-9403-fab231a6aeb5 button.colab-df-convert');\n",
              "      buttonEl.style.display =\n",
              "        google.colab.kernel.accessAllowed ? 'block' : 'none';\n",
              "\n",
              "      async function convertToInteractive(key) {\n",
              "        const element = document.querySelector('#df-82978391-3b92-46ef-9403-fab231a6aeb5');\n",
              "        const dataTable =\n",
              "          await google.colab.kernel.invokeFunction('convertToInteractive',\n",
              "                                                    [key], {});\n",
              "        if (!dataTable) return;\n",
              "\n",
              "        const docLinkHtml = 'Like what you see? Visit the ' +\n",
              "          '<a target=\"_blank\" href=https://colab.research.google.com/notebooks/data_table.ipynb>data table notebook</a>'\n",
              "          + ' to learn more about interactive tables.';\n",
              "        element.innerHTML = '';\n",
              "        dataTable['output_type'] = 'display_data';\n",
              "        await google.colab.output.renderOutput(dataTable, element);\n",
              "        const docLink = document.createElement('div');\n",
              "        docLink.innerHTML = docLinkHtml;\n",
              "        element.appendChild(docLink);\n",
              "      }\n",
              "    </script>\n",
              "  </div>\n",
              "\n",
              "\n",
              "<div id=\"df-0a78e442-cc5b-4fe1-882b-a3a83180a1d7\">\n",
              "  <button class=\"colab-df-quickchart\" onclick=\"quickchart('df-0a78e442-cc5b-4fe1-882b-a3a83180a1d7')\"\n",
              "            title=\"Suggest charts\"\n",
              "            style=\"display:none;\">\n",
              "\n",
              "<svg xmlns=\"http://www.w3.org/2000/svg\" height=\"24px\"viewBox=\"0 0 24 24\"\n",
              "     width=\"24px\">\n",
              "    <g>\n",
              "        <path d=\"M19 3H5c-1.1 0-2 .9-2 2v14c0 1.1.9 2 2 2h14c1.1 0 2-.9 2-2V5c0-1.1-.9-2-2-2zM9 17H7v-7h2v7zm4 0h-2V7h2v10zm4 0h-2v-4h2v4z\"/>\n",
              "    </g>\n",
              "</svg>\n",
              "  </button>\n",
              "\n",
              "<style>\n",
              "  .colab-df-quickchart {\n",
              "      --bg-color: #E8F0FE;\n",
              "      --fill-color: #1967D2;\n",
              "      --hover-bg-color: #E2EBFA;\n",
              "      --hover-fill-color: #174EA6;\n",
              "      --disabled-fill-color: #AAA;\n",
              "      --disabled-bg-color: #DDD;\n",
              "  }\n",
              "\n",
              "  [theme=dark] .colab-df-quickchart {\n",
              "      --bg-color: #3B4455;\n",
              "      --fill-color: #D2E3FC;\n",
              "      --hover-bg-color: #434B5C;\n",
              "      --hover-fill-color: #FFFFFF;\n",
              "      --disabled-bg-color: #3B4455;\n",
              "      --disabled-fill-color: #666;\n",
              "  }\n",
              "\n",
              "  .colab-df-quickchart {\n",
              "    background-color: var(--bg-color);\n",
              "    border: none;\n",
              "    border-radius: 50%;\n",
              "    cursor: pointer;\n",
              "    display: none;\n",
              "    fill: var(--fill-color);\n",
              "    height: 32px;\n",
              "    padding: 0;\n",
              "    width: 32px;\n",
              "  }\n",
              "\n",
              "  .colab-df-quickchart:hover {\n",
              "    background-color: var(--hover-bg-color);\n",
              "    box-shadow: 0 1px 2px rgba(60, 64, 67, 0.3), 0 1px 3px 1px rgba(60, 64, 67, 0.15);\n",
              "    fill: var(--button-hover-fill-color);\n",
              "  }\n",
              "\n",
              "  .colab-df-quickchart-complete:disabled,\n",
              "  .colab-df-quickchart-complete:disabled:hover {\n",
              "    background-color: var(--disabled-bg-color);\n",
              "    fill: var(--disabled-fill-color);\n",
              "    box-shadow: none;\n",
              "  }\n",
              "\n",
              "  .colab-df-spinner {\n",
              "    border: 2px solid var(--fill-color);\n",
              "    border-color: transparent;\n",
              "    border-bottom-color: var(--fill-color);\n",
              "    animation:\n",
              "      spin 1s steps(1) infinite;\n",
              "  }\n",
              "\n",
              "  @keyframes spin {\n",
              "    0% {\n",
              "      border-color: transparent;\n",
              "      border-bottom-color: var(--fill-color);\n",
              "      border-left-color: var(--fill-color);\n",
              "    }\n",
              "    20% {\n",
              "      border-color: transparent;\n",
              "      border-left-color: var(--fill-color);\n",
              "      border-top-color: var(--fill-color);\n",
              "    }\n",
              "    30% {\n",
              "      border-color: transparent;\n",
              "      border-left-color: var(--fill-color);\n",
              "      border-top-color: var(--fill-color);\n",
              "      border-right-color: var(--fill-color);\n",
              "    }\n",
              "    40% {\n",
              "      border-color: transparent;\n",
              "      border-right-color: var(--fill-color);\n",
              "      border-top-color: var(--fill-color);\n",
              "    }\n",
              "    60% {\n",
              "      border-color: transparent;\n",
              "      border-right-color: var(--fill-color);\n",
              "    }\n",
              "    80% {\n",
              "      border-color: transparent;\n",
              "      border-right-color: var(--fill-color);\n",
              "      border-bottom-color: var(--fill-color);\n",
              "    }\n",
              "    90% {\n",
              "      border-color: transparent;\n",
              "      border-bottom-color: var(--fill-color);\n",
              "    }\n",
              "  }\n",
              "</style>\n",
              "\n",
              "  <script>\n",
              "    async function quickchart(key) {\n",
              "      const quickchartButtonEl =\n",
              "        document.querySelector('#' + key + ' button');\n",
              "      quickchartButtonEl.disabled = true;  // To prevent multiple clicks.\n",
              "      quickchartButtonEl.classList.add('colab-df-spinner');\n",
              "      try {\n",
              "        const charts = await google.colab.kernel.invokeFunction(\n",
              "            'suggestCharts', [key], {});\n",
              "      } catch (error) {\n",
              "        console.error('Error during call to suggestCharts:', error);\n",
              "      }\n",
              "      quickchartButtonEl.classList.remove('colab-df-spinner');\n",
              "      quickchartButtonEl.classList.add('colab-df-quickchart-complete');\n",
              "    }\n",
              "    (() => {\n",
              "      let quickchartButtonEl =\n",
              "        document.querySelector('#df-0a78e442-cc5b-4fe1-882b-a3a83180a1d7 button');\n",
              "      quickchartButtonEl.style.display =\n",
              "        google.colab.kernel.accessAllowed ? 'block' : 'none';\n",
              "    })();\n",
              "  </script>\n",
              "</div>\n",
              "\n",
              "    </div>\n",
              "  </div>\n"
            ],
            "application/vnd.google.colaboratory.intrinsic+json": {
              "type": "dataframe",
              "variable_name": "lectures",
              "summary": "{\n  \"name\": \"lectures\",\n  \"rows\": 14,\n  \"fields\": [\n    {\n      \"column\": \"URL\",\n      \"properties\": {\n        \"dtype\": \"category\",\n        \"num_unique_values\": 1,\n        \"samples\": [\n          \"https://ocw.mit.edu/courses/6-0001-introduction-to-computer-science-and-programming-in-python-fall-2016/video_galleries/lecture-videos/\"\n        ],\n        \"semantic_type\": \"\",\n        \"description\": \"\"\n      }\n    },\n    {\n      \"column\": \"Time\",\n      \"properties\": {\n        \"dtype\": \"string\",\n        \"num_unique_values\": 14,\n        \"samples\": [\n          \"27:00-30:00\"\n        ],\n        \"semantic_type\": \"\",\n        \"description\": \"\"\n      }\n    },\n    {\n      \"column\": \"Transcript_Text\",\n      \"properties\": {\n        \"dtype\": \"string\",\n        \"num_unique_values\": 14,\n        \"samples\": [\n          \"After these definitions, I come to this line here-- print func_a. As soon as I make a function call,\\n    I'm going to create a new scope and I'm going to hop into there. Inside func_a, I'm going to go\\n    and look at what func_a does. It doesn't take in the parameters, it just prints out this message\\n    here. And then it leaves; it's done. There's no return, so we return None. So func_a returns\\n    None to whoever called it, which was that line there, so that is going to be None.\\n    Next line. This one right here-- print 5 plus some function call. Again I'm going to hop into\\n    func_b's scope and see what to do there. So first I'm going to map my parameters. So 2--\\n    whoops-- 2 gets mapped to y. So inside func_b's scope, y is going to get the value 2.\\n    That's the very first thing I'm doing-- mapping all the parameters. Then I'm going to print this\\n    thing here, and then I'm going to return y. So inside func_b, y has the value 2, and I'm\\n    returning 2 back to whoever called me. So this is the value 2 and I'm going to print 5 plus 2,\\n    which is 7.\\n    Last one. This is the trickiest. Oop, that popped up. If you think you've got it, try that exercise.\\n    But otherwise follow along. print func_c func_a. So I see that I am going to enter func_c's\\n    scope. So I'm going to look at what func_c does.\\n    First thing I do is I'm mapping all the parameters. Don't even worry about the fact that this is a\\n    function right now. Just pretend it's x or something. So you say func_a is going to get mapped\\n    to the variable z inside func_c. So z is func_c. Just mapping parameters from actual to formal.\\n    Then what do we do inside func_c? We print out inside func_c, and then we return z. This is\\n    the cool part. Inside func_c, z is func_a. So if you replace z with func_a, this here becomes\\n    return func_a open close parentheses. Look familiar? We did that function call right there\\n    right? So that's just another function call.\\n    So with that being another function call, you're going to create another scope, and you're\\n    going to pop into that one. So we're one, two, I guess two scopes deep, and we're trying to\\n    figure out where we're going. So func_a's scope is going to be up here.\"\n        ],\n        \"semantic_type\": \"\",\n        \"description\": \"\"\n      }\n    },\n    {\n      \"column\": \"Transcript_Key_Points\",\n      \"properties\": {\n        \"dtype\": \"string\",\n        \"num_unique_values\": 14,\n        \"samples\": [\n          \"Function Execution and Scope Creation:\\n    Calling func_a:\\n    When func_a() is called, a new scope is created.\\n    Inside func_a, the message 'inside func_a' is printed.\\n    Since there is no return statement, Python implicitly returns None.\\n    Result: print func_a() outputs None.\\n    Handling Function Parameters:\\n    Calling func_b(2):\\n    A new scope is created for func_b, and the actual parameter 2 is mapped to the formal parameter y.\\n    Inside func_b, 'inside func_b' is printed, and y (which is 2) is returned.\\n    Result: print 5 + func_b(2) evaluates to 5 + 2 = 7.\\n    Functions as Arguments:\\n    Calling func_c(func_a):\\n    A new scope is created for func_c. The function func_a is passed as the actual parameter and mapped to the formal parameter z in func_c.\\n    Inside func_c, 'inside func_c' is printed.\\n    The return statement in func_c executes z(), which effectively calls func_a().\\n    A new scope for func_a is created. The message 'inside func_a' is printed, and None is returned since func_a has no explicit return statement.\\n    Result: print func_c(func_a) outputs 'inside func_c', 'inside func_a', and None.\\n    Step-by-Step Scope Navigation:\\n    Detailed explanation of how Python navigates between scopes:\\n    From global to the scope of func_b for func_b(2).\\n    From global to func_c for func_c(func_a), and then further into func_a.\\n    Key Observations:\\n    Functions can be treated as objects and passed as parameters to other functions.\\n    Python creates a new scope for each function call and discards it after execution.\\n    If no explicit return is provided, Python implicitly returns None.\"\n        ],\n        \"semantic_type\": \"\",\n        \"description\": \"\"\n      }\n    },\n    {\n      \"column\": \"Lecture_Notes_Text\",\n      \"properties\": {\n        \"dtype\": \"string\",\n        \"num_unique_values\": 12,\n        \"samples\": [\n          \"SCOPE EXAMPLE\\n    - inside a function, can access a variable defined outside\\n    - inside a function, cannot modify a variable defined\\n    outside -- can using global variables, but frowned upon\\n    def f(y):\\n        x = 1\\n        x += 1\\n        print(x)\\n    x = 5\\n    f(x)\\n    print(x)\\n    def g(y):\\n        print(x)\\n        print(x + 1)\\n    x = 5\\n    g(x)\\n    print(x)\\n    def h(y):\\n        x += 1\\n    x = 5\\n    h(x)\\n    print(x)\\n    HARDER SCOPE EXAMPLE\\n    Python Tutor is your best friend to\\n    help sort this out!\\n    http://www.pythontutor.com/\\n    def g(x):\\n        def h():\\n            x = 'abc'\\n        x = x + 1\\n        print('g: x =', x)\\n        h()\\n        return x\\n    x = 3\\n    z = g(x)\"\n        ],\n        \"semantic_type\": \"\",\n        \"description\": \"\"\n      }\n    },\n    {\n      \"column\": \"Lecture_Notes_Key_Points\",\n      \"properties\": {\n        \"dtype\": \"string\",\n        \"num_unique_values\": 12,\n        \"samples\": [\n          \"Scope Rules in Python:\\n\\nAccessing Variables: Inside a function, you can access variables defined in the outer/global scope.\\nModifying Variables: Variables defined outside a function cannot be modified directly within the function unless declared as global.\\nExamples of Scope:\\nExample 1:\\nA function (f) can declare and modify its own local variables without affecting variables in the global scope.\\nOutput:\\nx = 5\\nf(x)  # Outputs: 2 (local x)\\nprint(x)  # Outputs: 5 (global x remains unchanged)\\nExample 2:\\nA function (g) can read and perform operations on global variables, but it doesn't modify them directly.\\nOutput:\\nx = 5\\ng(x)  # Outputs: 5 and 6 (accesses global x)\\nprint(x)  # Outputs: 5\\nExample 3:\\nA function (h) that tries to modify a global variable without declaring it as global will result in an error.\\nOutput:\\nx = 5\\nh(x)  # Error: UnboundLocalError (x is referenced before assignment)\\nGlobal Variables:\\nWhile global variables can be used to modify global scope variables from within a function, this is discouraged as it can lead to messy and error-prone code.\\nHARDER SCOPE EXAMPLE:\\nNested functions and scope intricacies:\\nA nested function can redefine variables from the outer scope without impacting the original variables.\\nExample:\\ndef g(x):\\n    def h():\\n        x = 'abc'  # Local to h, doesn't affect g's x\\n    x = x + 1  # Modifies x in g's scope\\n    print('g: x =', x)\\n    h()\\n    return x\\nOutput: \\nx = 3\\nz = g(x)  # Outputs: \\\"g: x = 4\\\", and z = 4\\nPython Tutor Recommendation:\\nPython Tutor is strongly recommended for understanding complex scope behaviors, including variable initialization, modification, and function interactions.\\nProvides a step-by-step visualization of scope creation, destruction, and variable tracking.\"\n        ],\n        \"semantic_type\": \"\",\n        \"description\": \"\"\n      }\n    },\n    {\n      \"column\": \"Coverage\",\n      \"properties\": {\n        \"dtype\": \"string\",\n        \"num_unique_values\": 14,\n        \"samples\": [\n          \"Similarity Score: 90%:\\nSimilarities:\\nBoth the transcript and the lecture notes cover the concept of functions being passed as arguments.\\nExamples (func_a, func_b, func_c) and their execution outputs are discussed in both sources.\\nEmphasis on how arguments are mapped and the execution flow across multiple scopes.\\nDetailed explanation of print func_a(), print 5 + func_b(2), and print func_c(func_a) aligns well.\"\n        ],\n        \"semantic_type\": \"\",\n        \"description\": \"\"\n      }\n    },\n    {\n      \"column\": \"Missing_Points\",\n      \"properties\": {\n        \"dtype\": \"string\",\n        \"num_unique_values\": 14,\n        \"samples\": [\n          \"Transcript:\\nElaborates on the creation and mapping of function arguments in greater depth.\\nMentions nested scope creation explicitly during function calls.\\nExplains the sequence of function calls when passing functions as arguments (e.g., func_c calling func_a).\\nLecture Notes:\\nMore concise; omits the detailed step-by-step breakdown of scope and variable mapping.\\nDoes not explicitly highlight the \\\"scope depth\\\" concept mentioned in the transcript.\\nMissing explicit mention of the implicit None return for func_a.\"\n        ],\n        \"semantic_type\": \"\",\n        \"description\": \"\"\n      }\n    }\n  ]\n}"
            }
          },
          "metadata": {},
          "execution_count": 7
        }
      ]
    },
    {
      "cell_type": "code",
      "source": [
        "analyzer = BasicTextSimilarityAnalyzer()"
      ],
      "metadata": {
        "id": "PolsnA0D64Li"
      },
      "execution_count": null,
      "outputs": []
    },
    {
      "cell_type": "code",
      "source": [
        "transcript_text = lectures.iloc[0]['Transcript_Text']\n",
        "notes_text = lectures.iloc[0]['Lecture_Notes_Text']"
      ],
      "metadata": {
        "id": "KjHAvpfo7FYr"
      },
      "execution_count": null,
      "outputs": []
    },
    {
      "cell_type": "code",
      "source": [
        "i = 0\n",
        "print(f\"\\nSegment {i} ({lectures.iloc[i]['Time']}):\")\n",
        "print(\"\\nText Statistics:\")\n",
        "print(f\"- Transcript length: {len(transcript_text)} characters\")\n",
        "print(f\"- Notes length: {len(notes_text)} characters\")\n",
        "print(f\"- Transcript words: {len(transcript_text.split())}\")\n",
        "print(f\"- Notes words: {len(notes_text.split())}\")"
      ],
      "metadata": {
        "colab": {
          "base_uri": "https://localhost:8080/"
        },
        "id": "vbT4Jolz7eYe",
        "outputId": "46695014-7af5-46d4-c95b-2cfb8d32b6b4"
      },
      "execution_count": null,
      "outputs": [
        {
          "output_type": "stream",
          "name": "stdout",
          "text": [
            "\n",
            "Segment 0 (0:00-3:00):\n",
            "\n",
            "Text Statistics:\n",
            "- Transcript length: 2427 characters\n",
            "- Notes length: 431 characters\n",
            "- Transcript words: 424\n",
            "- Notes words: 76\n"
          ]
        }
      ]
    },
    {
      "cell_type": "code",
      "source": [
        "# Calculate similarities\n",
        "sequence_sim = analyzer.sequence_similarity(transcript_text, notes_text)\n",
        "word_overlap_sim = analyzer.word_overlap_similarity(transcript_text, notes_text)\n",
        "freq_sim = analyzer.frequency_similarity(transcript_text, notes_text)\n",
        "\n",
        "print(\"\\nSimilarity Metrics:\")\n",
        "print(f\"- Sequence Similarity: {sequence_sim:.4f}\")\n",
        "print(f\"- Word Overlap Similarity: {word_overlap_sim:.4f}\")\n",
        "print(f\"- Frequency Similarity: {freq_sim:.4f}\")"
      ],
      "metadata": {
        "colab": {
          "base_uri": "https://localhost:8080/"
        },
        "id": "a5HRjUHR7-9_",
        "outputId": "3f390394-f853-49b3-bcbc-41783f051fb0"
      },
      "execution_count": null,
      "outputs": [
        {
          "output_type": "stream",
          "name": "stdout",
          "text": [
            "\n",
            "Similarity Metrics:\n",
            "- Sequence Similarity: 0.0084\n",
            "- Word Overlap Similarity: 0.0938\n",
            "- Frequency Similarity: 0.0868\n"
          ]
        }
      ]
    },
    {
      "cell_type": "code",
      "source": [
        "# Find common phrases\n",
        "common_phrases = analyzer.find_common_phrases(transcript_text, notes_text)\n",
        "if common_phrases:\n",
        "    print(\"\\nCommon Phrases:\")\n",
        "    for phrase in common_phrases:\n",
        "        print(f\"- '{phrase}'\")\n",
        "\n",
        "print(\"-\" * 70)"
      ],
      "metadata": {
        "colab": {
          "base_uri": "https://localhost:8080/"
        },
        "id": "jVCgbkzh8Hi1",
        "outputId": "16285b45-a672-4ded-aab7-20b2eda3d69e"
      },
      "execution_count": null,
      "outputs": [
        {
          "output_type": "stream",
          "name": "stdout",
          "text": [
            "\n",
            "Common Phrases:\n",
            "- 'how write code'\n",
            "- 'write code so'\n",
            "- 'code so far'\n",
            "- 'some piece code'\n",
            "----------------------------------------------------------------------\n"
          ]
        }
      ]
    }
  ]
}